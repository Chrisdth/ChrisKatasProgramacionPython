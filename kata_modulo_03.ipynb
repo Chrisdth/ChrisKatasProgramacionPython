{
  "cells": [
    {
      "cell_type": "markdown",
      "metadata": {},
      "source": [
        "## Ejercicio - Escribir declaraciones if, else, y elif"
      ]
    },
    {
      "cell_type": "code",
      "execution_count": 2,
      "metadata": {},
      "outputs": [
        {
          "name": "stdout",
          "output_type": "stream",
          "text": [
            "El asteroide se acerca muy rápid\n"
          ]
        }
      ],
      "source": [
        "vel_actual_asteroid = 49 # 49 km/s\n",
        "advertencia = (\"El asteroide se acerca muy rápido\")\n",
        "if vel_actual_asteroid > 25:\n",
        "    print(str(advertencia))\n",
        "else:\n",
        "    print(\"Todo esta bien no te preocupes\")\n",
        "\n",
        "    "
      ]
    },
    {
      "cell_type": "code",
      "execution_count": 3,
      "metadata": {},
      "outputs": [
        {
          "name": "stdout",
          "output_type": "stream",
          "text": [
            "Todo esta bien no te espantes\n"
          ]
        }
      ],
      "source": [
        "vel_actual_asteroid = 19 # 19 km/s\n",
        "if vel_actual_asteroid > 20:\n",
        "    print(\"Se acerca un asteroide a la tierra\")\n",
        "elif vel_actual_asteroid == 20:\n",
        "    print(\"Mira esa luz\")\n",
        "else:\n",
        "    print(\"Todo esta bien no te espantes\")"
      ]
    },
    {
      "cell_type": "markdown",
      "metadata": {},
      "source": [
        "## Ejercicio: Uso de operadores and y or"
      ]
    },
    {
      "cell_type": "code",
      "execution_count": 5,
      "metadata": {},
      "outputs": [
        {
          "name": "stdout",
          "output_type": "stream",
          "text": [
            "Se puede ver un destello de luz\n"
          ]
        }
      ],
      "source": [
        "dimension = 15\n",
        "velocidad = 45\n",
        "if velocidad > 25 and dimension > 25:\n",
        "    print(\"¡Se acerca un asteroide a la tierra!\")\n",
        "elif velocidad >= 20:\n",
        "    print(\"Se puede ver un destello de luz\")\n",
        "elif dimension < 25:\n",
        "    print(\"Probablemente el asteroide se quemará en la atmosfera\")\n",
        "else: \n",
        "    print (\"Todo esta bien!\")\n"
      ]
    }
  ],
  "metadata": {
    "interpreter": {
      "hash": "4a116c2ddd3c460139cb55e6f2d7300c318cd511412f994d01aa8f21eebcefc4"
    },
    "kernelspec": {
      "display_name": "Python 3.10.2 64-bit",
      "language": "python",
      "name": "python3"
    },
    "language_info": {
      "codemirror_mode": {
        "name": "ipython",
        "version": 3
      },
      "file_extension": ".py",
      "mimetype": "text/x-python",
      "name": "python",
      "nbconvert_exporter": "python",
      "pygments_lexer": "ipython3",
      "version": "3.10.2"
    },
    "orig_nbformat": 4
  },
  "nbformat": 4,
  "nbformat_minor": 2
}
