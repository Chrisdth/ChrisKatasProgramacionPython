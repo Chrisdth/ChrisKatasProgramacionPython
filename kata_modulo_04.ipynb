{
  "cells": [
    {
      "cell_type": "markdown",
      "metadata": {},
      "source": [
        "## Transformando Cadenas"
      ]
    },
    {
      "cell_type": "code",
      "execution_count": 6,
      "metadata": {},
      "outputs": [
        {
          "name": "stdout",
          "output_type": "stream",
          "text": [
            "['Datos interesantes acerca de la Luna', ' La luna es el unico satelite de la Tierra', ' Hay muchos datos interesantes acerca y como afecta la vida en la Tierra', ' En promedio, la Luna se mueve 4cm lejos de la distancia de la Tierra cada año', ' Esta manera de andar sin rumbo anual no es lo suficiente significante para causar un efecto inmediato en la Tierra', ' El punto mas alto de la temperatura de la luz del día de la Luna es de 127 C', '']\n",
            "Datos interesantes acerca de la Luna\n",
            " La luna es el unico satelite de la Tierra\n",
            " Hay muchos datos interesantes acerca y como afecta la vida en la Tierra\n",
            " En promedio, la Luna se mueve 4cm lejos de la distancia de la Tierra cada año\n",
            " Esta manera de andar sin rumbo anual no es lo suficiente significante para causar un efecto inmediato en la Tierra\n",
            " El punto mas alto de la temperatura de la luz del día de la Luna es de 127 Celcius\n"
          ]
        }
      ],
      "source": [
        "texto =\"Datos interesantes acerca de la Luna. La luna es el unico satelite de la Tierra. Hay muchos datos interesantes acerca y como afecta la vida en la Tierra. En promedio, la Luna se mueve 4cm lejos de la distancia de la Tierra cada año. Esta manera de andar sin rumbo anual no es lo suficiente significante para causar un efecto inmediato en la Tierra. El punto mas alto de la temperatura de la luz del día de la Luna es de 127 C.\"\n",
        "texto_dividido = texto.split('.')\n",
        "print (texto_dividido)\n",
        "palabras_clave= [\"promedio\",\"temperatura\",\"distancia\"]\n",
        "\n",
        "for cada_sentencia in texto_dividido:\n",
        "    for palabras_clave in cada_sentencia:\n",
        "        if palabras_clave in cada_sentencia:\n",
        "            print(cada_sentencia.replace(' C', ' Celcius'))\n",
        "            break"
      ]
    },
    {
      "cell_type": "markdown",
      "metadata": {},
      "source": [
        "## Formateando Cadenas"
      ]
    },
    {
      "cell_type": "code",
      "execution_count": 19,
      "metadata": {},
      "outputs": [
        {
          "name": "stdout",
          "output_type": "stream",
          "text": [
            "Datos De Gravedad Sobre Ganímides\n",
            "--------------------------------------------------------------------------------\n",
            "Nombre del planeta: Marte \n",
            "Gravedad en Ganímides: 1.4300000000000002 m/ s2\n",
            "Datos de gravedad sobre: Ganímides\n",
            " ---------------------------------------------------\n",
            "Nombre del planeta: Marte \n",
            "Gravedad en Ganímides: 0.00143 m/s2\n",
            "\n",
            "Datos de gravedad sobre: Ganímides\n",
            " ---------------------------------------------------\n",
            "Nombre del planeta: Marte \n",
            "Gravedad en Ganímides: 1.4300000000000002 m/s2\n",
            "\n"
          ]
        }
      ],
      "source": [
        "planeta ='Marte '\n",
        "gravedad = 0.00143\n",
        "nombre = 'Ganímides'\n",
        "titulo = f'datos de gravedad sobre {nombre}\\n'\n",
        "\n",
        "hechos = f\"{'-'*80}\\nNombre del planeta: {planeta}\\nGravedad en {nombre}: {gravedad * 1000} m/ s2\"\n",
        "\n",
        "plantilla = f\"{titulo.title()}{hechos}\"\n",
        "print(plantilla)\n",
        "\n",
        "nueva_plantilla = \"Datos de gravedad sobre: {nombre}\\n ---------------------------------------------------\\nNombre del planeta: {planeta}\\nGravedad en {nombre}: {gravedad} m/s2\\n\"\n",
        "print(nueva_plantilla.format(nombre=nombre,planeta=planeta,gravedad=gravedad))\n",
        "print(nueva_plantilla.format(nombre=nombre,planeta=planeta,gravedad=gravedad*1000))"
      ]
    }
  ],
  "metadata": {
    "interpreter": {
      "hash": "4a116c2ddd3c460139cb55e6f2d7300c318cd511412f994d01aa8f21eebcefc4"
    },
    "kernelspec": {
      "display_name": "Python 3.10.2 64-bit",
      "language": "python",
      "name": "python3"
    },
    "language_info": {
      "codemirror_mode": {
        "name": "ipython",
        "version": 3
      },
      "file_extension": ".py",
      "mimetype": "text/x-python",
      "name": "python",
      "nbconvert_exporter": "python",
      "pygments_lexer": "ipython3",
      "version": "3.10.2"
    },
    "orig_nbformat": 4
  },
  "nbformat": 4,
  "nbformat_minor": 2
}
