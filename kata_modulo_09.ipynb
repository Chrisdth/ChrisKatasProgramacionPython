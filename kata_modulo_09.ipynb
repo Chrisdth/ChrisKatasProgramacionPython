{
 "cells": [
  {
   "cell_type": "markdown",
   "metadata": {},
   "source": [
    "## Ejercicio 01"
   ]
  },
  {
   "cell_type": "code",
   "execution_count": 6,
   "metadata": {},
   "outputs": [
    {
     "name": "stdout",
     "output_type": "stream",
     "text": [
      "Reporte de combustible:\n",
      "    Promedio Total: 78.33333333333333%\n",
      "    Tanque 1: 80%\n",
      "    Tanque 2: 70%\n",
      "    Tanque 3: 85%\n",
      "    \n",
      "Reporte de combustible:\n",
      "    Promedio Total: 78.0%\n",
      "    Tanque 1: 88%\n",
      "    Tanque 2: 76%\n",
      "    Tanque 3: 70%\n",
      "    \n"
     ]
    }
   ],
   "source": [
    "def reporte(tanque_1,tanque_2,tanque_3):\n",
    "    promedio = (tanque_1+tanque_2+tanque_3)/3\n",
    "    return f\"\"\"Reporte de combustible:\n",
    "    Promedio Total: {promedio}%\n",
    "    Tanque 1: {tanque_1}%\n",
    "    Tanque 2: {tanque_2}%\n",
    "    Tanque 3: {tanque_3}%\n",
    "    \"\"\"\n",
    "print(reporte(80,70,85))\n",
    "\n",
    "def promedio(valores):\n",
    "    total = sum(valores)\n",
    "    num_objetos = len(valores)\n",
    "    return total / num_objetos\n",
    "promedio([80,85,81])\n",
    "\n",
    "def reporte(tanque_1,tanque_2,tanque_3):\n",
    "    return f\"\"\"Reporte de combustible:\n",
    "    Promedio Total: {promedio([tanque_1,tanque_2,tanque_3])}%\n",
    "    Tanque 1: {tanque_1}%\n",
    "    Tanque 2: {tanque_2}%\n",
    "    Tanque 3: {tanque_3}%\n",
    "    \"\"\"\n",
    "print(reporte(88,76,70))\n"
   ]
  },
  {
   "cell_type": "markdown",
   "metadata": {},
   "source": [
    "## Ejercicio 02"
   ]
  },
  {
   "cell_type": "code",
   "execution_count": 2,
   "metadata": {},
   "outputs": [
    {
     "name": "stdout",
     "output_type": "stream",
     "text": [
      "\n",
      "    Misión a Luna\n",
      "    Tiempo total de viaje: 65 minutos\n",
      "    Resto de gasolina: 500000 galones\n",
      "    \n",
      "\n",
      "    Mision a Luna\n",
      "    Tiempo total de viaje: 84 minutos\n",
      "    Resto de combustible: 500000\n",
      "    \n"
     ]
    }
   ],
   "source": [
    "def reporte_de_mision(tiempo_prelaunch,tiempo_vuelo,destino,tanque_externo,tanque_principal):\n",
    "    return f\"\"\"\n",
    "    Misión a {destino}\n",
    "    Tiempo total de viaje: {tiempo_prelaunch+tiempo_vuelo} minutos\n",
    "    Resto de gasolina: {tanque_externo+tanque_principal} galones\n",
    "    \"\"\"\n",
    "print(reporte_de_mision(14,51,\"Luna\",200000,300000))\n",
    "\n",
    "def reporte_de_mision(destino,*minutos, **reserva_combustible):\n",
    "    return f\"\"\"\n",
    "    Mision a {destino}\n",
    "    Tiempo total de viaje: {sum(minutos)} minutos\n",
    "    Resto de combustible: {sum(reserva_combustible.values())}\n",
    "    \"\"\"\n",
    "print(reporte_de_mision(\"Luna\",18,15,51,principal = 300000, externo = 200000))\n",
    "\n",
    "def reporte_de_mision (destino,*minutos, **reserva_combustible):\n",
    "    return f\"\"\"\n",
    "    Mision a {destino}\n",
    "    Tiempo total de viaje: {sum(minutos)} minutos\n",
    "    Resto de combustible: {sum(reserva_combustible.values())}\n",
    "    \"\"\"\n",
    "    "
   ]
  }
 ],
 "metadata": {
  "interpreter": {
   "hash": "4a116c2ddd3c460139cb55e6f2d7300c318cd511412f994d01aa8f21eebcefc4"
  },
  "kernelspec": {
   "display_name": "Python 3.10.2 64-bit",
   "language": "python",
   "name": "python3"
  },
  "language_info": {
   "codemirror_mode": {
    "name": "ipython",
    "version": 3
   },
   "file_extension": ".py",
   "mimetype": "text/x-python",
   "name": "python",
   "nbconvert_exporter": "python",
   "pygments_lexer": "ipython3",
   "version": "3.10.2"
  },
  "orig_nbformat": 4
 },
 "nbformat": 4,
 "nbformat_minor": 2
}
