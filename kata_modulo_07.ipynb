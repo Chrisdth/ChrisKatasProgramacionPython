{
 "cells": [
  {
   "cell_type": "markdown",
   "metadata": {},
   "source": [
    "## Katas del modulo 07"
   ]
  },
  {
   "cell_type": "markdown",
   "metadata": {},
   "source": [
    "## Ejercicio 01 y 02"
   ]
  },
  {
   "cell_type": "code",
   "execution_count": 1,
   "metadata": {},
   "outputs": [
    {
     "name": "stdout",
     "output_type": "stream",
     "text": [
      "Pluton\n",
      "Mercurio\n",
      "Marte\n",
      "Venus\n",
      "Saturno\n"
     ]
    }
   ],
   "source": [
    "planeta = ''\n",
    "planetas = []\n",
    "while planeta.lower() != 'hecho':\n",
    "    if planeta:\n",
    "        planetas.append(planeta)\n",
    "    planeta = input ('Ingresa un planeta, cuando termines escribe \"hecho\"')\n",
    "\n",
    "# Ejercicio 2 \n",
    "for planet in planetas:\n",
    "    print(planet)\n",
    "\n"
   ]
  }
 ],
 "metadata": {
  "interpreter": {
   "hash": "4a116c2ddd3c460139cb55e6f2d7300c318cd511412f994d01aa8f21eebcefc4"
  },
  "kernelspec": {
   "display_name": "Python 3.10.2 64-bit",
   "language": "python",
   "name": "python3"
  },
  "language_info": {
   "codemirror_mode": {
    "name": "ipython",
    "version": 3
   },
   "file_extension": ".py",
   "mimetype": "text/x-python",
   "name": "python",
   "nbconvert_exporter": "python",
   "pygments_lexer": "ipython3",
   "version": "3.10.2"
  },
  "orig_nbformat": 4
 },
 "nbformat": 4,
 "nbformat_minor": 2
}
