{
 "cells": [
  {
   "cell_type": "markdown",
   "metadata": {},
   "source": [
    "## Kata modulo 05"
   ]
  },
  {
   "cell_type": "markdown",
   "metadata": {},
   "source": [
    "## Ejercicio 01"
   ]
  },
  {
   "cell_type": "code",
   "execution_count": 4,
   "metadata": {},
   "outputs": [
    {
     "name": "stdout",
     "output_type": "stream",
     "text": [
      "628949330\n",
      "390577534\n"
     ]
    }
   ],
   "source": [
    "dis_tierra = 149597870\n",
    "dis_jupiter = 778547200\n",
    "dis_total = abs(dis_tierra-dis_jupiter)\n",
    "dis_total_miles = (dis_total*.621) \n",
    "print(dis_total)\n",
    "print(round(dis_total_miles))"
   ]
  },
  {
   "cell_type": "markdown",
   "metadata": {},
   "source": [
    "## Ejercicio 02"
   ]
  },
  {
   "cell_type": "code",
   "execution_count": 15,
   "metadata": {},
   "outputs": [
    {
     "name": "stdout",
     "output_type": "stream",
     "text": [
      "Planeta\t\tDistancia KM\t\t Distancia Millas\n",
      " ------------------------------------\n",
      " Tierra \t 100000 \t\t 62100.0\n"
     ]
    }
   ],
   "source": [
    "nom_planeta = input('Nombre del planeta')\n",
    "planeta1 = input('Indica la distancia del sol para el primer planeta en KM')\n",
    "planeta2 = input(\"Indicala distancia desde el sol para el segundo planeta en KM\")\n",
    "planeta1 = int(planeta1)\n",
    "planeta2 = int(planeta2)\n",
    "distancias = planeta1 - planeta2\n",
    "distancia_en_millas = distancias *.621\n",
    "print('Planeta\\t\\t''Distancia KM\\t\\t','Distancia Millas\\n','-----------------------------------------------\\n',nom_planeta,'\\t',abs(distancias),'\\t\\t',abs(distancia_en_millas))"
   ]
  }
 ],
 "metadata": {
  "interpreter": {
   "hash": "4a116c2ddd3c460139cb55e6f2d7300c318cd511412f994d01aa8f21eebcefc4"
  },
  "kernelspec": {
   "display_name": "Python 3.10.2 64-bit",
   "language": "python",
   "name": "python3"
  },
  "language_info": {
   "codemirror_mode": {
    "name": "ipython",
    "version": 3
   },
   "file_extension": ".py",
   "mimetype": "text/x-python",
   "name": "python",
   "nbconvert_exporter": "python",
   "pygments_lexer": "ipython3",
   "version": "3.10.2"
  },
  "orig_nbformat": 4
 },
 "nbformat": 4,
 "nbformat_minor": 2
}
